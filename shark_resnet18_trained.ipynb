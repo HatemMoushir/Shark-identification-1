{
  "nbformat": 4,
  "nbformat_minor": 0,
  "metadata": {
    "colab": {
      "provenance": [],
      "authorship_tag": "ABX9TyMkHGA/u6LD0fy+p5QQtAPa",
      "include_colab_link": true
    },
    "kernelspec": {
      "name": "python3",
      "display_name": "Python 3"
    },
    "language_info": {
      "name": "python"
    }
  },
  "cells": [
    {
      "cell_type": "markdown",
      "metadata": {
        "id": "view-in-github",
        "colab_type": "text"
      },
      "source": [
        "<a href=\"https://colab.research.google.com/github/HatemMoushir/Shark-identification-1/blob/main/shark_resnet18_trained.ipynb\" target=\"_parent\"><img src=\"https://colab.research.google.com/assets/colab-badge.svg\" alt=\"Open In Colab\"/></a>"
      ]
    },
    {
      "cell_type": "code",
      "source": [
        "\n",
        "import os\n",
        "from PIL import Image\n",
        "import torch\n",
        "from torch.utils.data import Dataset, DataLoader\n",
        "import torchvision.transforms as T\n",
        "import torch.nn as nn\n",
        "import torch.optim as optim\n",
        "from torchvision import models\n",
        "from tqdm import tqdm\n",
        "\n",
        "# -------------------------------------------------------\n",
        "print(\"🧹 التحضير: التجهيزات العامة...\")\n",
        "device = torch.device(\"cuda\" if torch.cuda.is_available() else \"cpu\")\n",
        "\n",
        "# -------------------------------------------------------\n",
        "print(\"📁 تحميل الصور يدويًا...\")\n",
        "\n",
        "class SharkDataset(Dataset):\n",
        "    def __init__(self, root_dir, transform=None):\n",
        "        self.root_dir = root_dir\n",
        "        self.transform = transform\n",
        "        self.samples = []\n",
        "\n",
        "        class_folders = sorted(os.listdir(root_dir))\n",
        "        self.class_to_idx = {cls_name: idx for idx, cls_name in enumerate(class_folders)}\n",
        "\n",
        "        for cls_name in class_folders:\n",
        "            cls_folder = os.path.join(root_dir, cls_name)\n",
        "            for filename in os.listdir(cls_folder):\n",
        "                if filename.lower().endswith(('.png', '.jpg', '.jpeg')):\n",
        "                    path = os.path.join(cls_folder, filename)\n",
        "                    self.samples.append((path, self.class_to_idx[cls_name]))\n",
        "\n",
        "    def __len__(self):\n",
        "        return len(self.samples)\n",
        "\n",
        "    def __getitem__(self, idx):\n",
        "        path, label = self.samples[idx]\n",
        "        image = Image.open(path).convert(\"RGB\")\n",
        "        if self.transform:\n",
        "            image = self.transform(image)\n",
        "        return image, label\n",
        "\n",
        "# -------------------------------------------------------\n",
        "print(\"🧱 بناء DataLoaders...\")\n",
        "\n",
        "transform = T.Compose([\n",
        "    T.Resize((224, 224)),\n",
        "    T.ToTensor()\n",
        "])\n",
        "\n",
        "batch_size = 32\n",
        "\n",
        "train_dataset = SharkDataset(\"/content/Shark_project_split/train\", transform)\n",
        "val_dataset   = SharkDataset(\"/content/Shark_project_split/val\", transform)\n",
        "test_dataset  = SharkDataset(\"/content/Shark_project_split/test\", transform)\n",
        "\n",
        "train_loader = DataLoader(train_dataset, batch_size=batch_size, shuffle=True)\n",
        "val_loader   = DataLoader(val_dataset, batch_size=batch_size)\n",
        "test_loader  = DataLoader(test_dataset, batch_size=batch_size)\n",
        "\n",
        "num_classes = len(train_dataset.class_to_idx)\n",
        "class_names = list(train_dataset.class_to_idx.keys())\n",
        "print(f\"📊 عدد الأصناف: {num_classes} - {class_names}\")\n",
        "\n",
        "# -------------------------------------------------------\n",
        "print(\"🧠 تحميل موديل ResNet18...\")\n",
        "\n",
        "model = models.resnet18(pretrained=True)\n",
        "model.fc = nn.Linear(model.fc.in_features, num_classes)\n",
        "model = model.to(device)\n",
        "\n",
        "criterion = nn.CrossEntropyLoss()\n",
        "optimizer = optim.Adam(model.parameters(), lr=0.0005)\n",
        "num_epochs = 10\n",
        "\n",
        "# -------------------------------------------------------\n",
        "print(\"🏋️ بدء التدريب...\")\n",
        "\n",
        "for epoch in range(num_epochs):\n",
        "    model.train()\n",
        "    running_loss = 0.0\n",
        "    correct, total = 0, 0\n",
        "\n",
        "    for images, labels in tqdm(train_loader, desc=f\"🚂 Epoch {epoch+1}/{num_epochs}\"):\n",
        "        images, labels = images.to(device), labels.to(device)\n",
        "\n",
        "        optimizer.zero_grad()\n",
        "        outputs = model(images)\n",
        "        loss = criterion(outputs, labels)\n",
        "        loss.backward()\n",
        "        optimizer.step()\n",
        "\n",
        "        running_loss += loss.item() * images.size(0)\n",
        "        _, predicted = torch.max(outputs, 1)\n",
        "        correct += (predicted == labels).sum().item()\n",
        "        total += labels.size(0)\n",
        "\n",
        "    train_loss = running_loss / total\n",
        "    train_acc = correct / total * 100\n",
        "    print(f\"📈 Epoch {epoch+1}: Loss = {train_loss:.4f}, Accuracy = {train_acc:.2f}%\")\n",
        "\n",
        "# -------------------------------------------------------\n",
        "print(\"💾 حفظ النموذج...\")\n",
        "\n",
        "torch.save(model.state_dict(), \"/content/shark_resnet18_trained.pth\")\n",
        "print(\"✅ النموذج تم حفظه كـ: shark_resnet18_trained.pth\")\n",
        "\n",
        "# -------------------------------------------------------\n",
        "print(\"🔍 التقييم النهائي على بيانات الاختبار...\")\n",
        "\n",
        "model.eval()\n",
        "correct, total = 0, 0\n",
        "\n",
        "with torch.no_grad():\n",
        "    for images, labels in test_loader:\n",
        "        images, labels = images.to(device), labels.to(device)\n",
        "        outputs = model(images)\n",
        "        _, predicted = torch.max(outputs, 1)\n",
        "        correct += (predicted == labels).sum().item()\n",
        "        total += labels.size(0)\n",
        "\n",
        "test_acc = correct / total * 100\n",
        "print(f\"🎯 دقة النموذج على بيانات الاختبار: {test_acc:.2f}%\")"
      ],
      "metadata": {
        "id": "T561hT0yvCcy"
      },
      "execution_count": null,
      "outputs": []
    },
    {
      "cell_type": "code",
      "source": [
        "import torch\n",
        "import torchvision.transforms as transforms\n",
        "from PIL import Image\n",
        "\n",
        "# تحميل النموذج\n",
        "model = torch.load('shark_resnet18_trained.pth', map_location=torch.device('cpu'))\n",
        "model.eval()\n",
        "\n",
        "# قائمة الأصناف (حسب الترتيب اللي دربت عليه)\n",
        "class_names = [\n",
        "    'Blacktip_Shark', 'Bull_Shark', 'Great_White_Shark', 'Hammerhead_Shark',\n",
        "    'Mako_Shark', 'Tiger_Shark', 'Whale_Shark', 'Whitetip_Shark'\n",
        "]\n",
        "\n",
        "# التحويلات المستخدمة لتجهيز الصورة\n",
        "transform = transforms.Compose([\n",
        "    transforms.Resize((224, 224)),\n",
        "    transforms.ToTensor(),\n",
        "    transforms.Normalize([0.485, 0.456, 0.406], [0.229, 0.224, 0.225])\n",
        "])\n",
        "\n",
        "# تجربة النموذج على صورة واحدة\n",
        "def predict_image(image_path):\n",
        "    img = Image.open(image_path).convert('RGB')\n",
        "    img_tensor = transform(img).unsqueeze(0)  # [1, 3, 224, 224]\n",
        "\n",
        "    with torch.no_grad():\n",
        "        outputs = model(img_tensor)\n",
        "        _, predicted = torch.max(outputs, 1)\n",
        "        prediction = class_names[predicted.item()]\n",
        "\n",
        "    print(f\"🦈 هذه الصورة تم تصنيفها كـ: {prediction}\")\n",
        "\n",
        "predict_image(\"/content/test29.jpg\")"
      ],
      "metadata": {
        "id": "rGYJfn4kwRSR"
      },
      "execution_count": null,
      "outputs": []
    },
    {
      "cell_type": "code",
      "source": [
        "!gdown 1O1TTMFQmXziQ4_78-asNBbEhkPEJcDzt"
      ],
      "metadata": {
        "colab": {
          "base_uri": "https://localhost:8080/"
        },
        "id": "NXafwducwcQv",
        "outputId": "7b4496d3-ee15-42bb-de94-56c49909cc1e"
      },
      "execution_count": 11,
      "outputs": [
        {
          "output_type": "stream",
          "name": "stdout",
          "text": [
            "Downloading...\n",
            "From: https://drive.google.com/uc?id=1O1TTMFQmXziQ4_78-asNBbEhkPEJcDzt\n",
            "To: /content/test29.jpg\n",
            "\r  0% 0.00/674k [00:00<?, ?B/s]\r100% 674k/674k [00:00<00:00, 7.67MB/s]\n"
          ]
        }
      ]
    },
    {
      "cell_type": "code",
      "source": [
        "!gdown 1bo-gI-rVEJDgQxRbSiJTZsqbxrym2eIo"
      ],
      "metadata": {
        "colab": {
          "base_uri": "https://localhost:8080/"
        },
        "id": "JmbdTzn0y2bT",
        "outputId": "3131c04f-8f50-43d2-e846-ea2318e1e34b"
      },
      "execution_count": 15,
      "outputs": [
        {
          "output_type": "stream",
          "name": "stdout",
          "text": [
            "Downloading...\n",
            "From: https://drive.google.com/uc?id=1bo-gI-rVEJDgQxRbSiJTZsqbxrym2eIo\n",
            "To: /content/test55.jpeg\n",
            "\r  0% 0.00/14.0k [00:00<?, ?B/s]\r100% 14.0k/14.0k [00:00<00:00, 27.0MB/s]\n"
          ]
        }
      ]
    },
    {
      "cell_type": "code",
      "source": [
        "\n",
        "import torch\n",
        "import torchvision.transforms as transforms\n",
        "import torchvision.models as models\n",
        "import torch.nn as nn\n",
        "from PIL import Image\n",
        "\n",
        "# 🧠 بناء نموذج ResNet18 وتعديل طبقة الإخراج لعدد الأصناف (8)\n",
        "num_classes = 8\n",
        "model = models.resnet18(pretrained=False)\n",
        "model.fc = nn.Linear(model.fc.in_features, num_classes)\n",
        "\n",
        "# 💾 تحميل الوزنات المدربة\n",
        "model.load_state_dict(torch.load('shark_resnet18_trained.pth', map_location=torch.device('cpu')))\n",
        "model.eval()  # تحويل النموذج إلى وضع التقييم\n",
        "\n",
        "# 🏷️ قائمة الأصناف\n",
        "class_names = [\n",
        "    'Blacktip_Shark', 'Bull_Shark', 'Great_White_Shark', 'Hammerhead_Shark',\n",
        "    'Mako_Shark', 'Tiger_Shark', 'Whale_Shark', 'Whitetip_Shark'\n",
        "]\n",
        "\n",
        "# 🌀 التحويلات المطبقة على الصورة (كما في التدريب)\n",
        "transform = transforms.Compose([\n",
        "    transforms.Resize((224, 224)),\n",
        "    transforms.ToTensor(),\n",
        "    transforms.Normalize([0.485, 0.456, 0.406],\n",
        "                         [0.229, 0.224, 0.225])\n",
        "])\n",
        "\n",
        "# 🧪 دالة تجربة التنبؤ على صورة واحدة\n",
        "def predict_image(image_path):\n",
        "    img = Image.open(image_path).convert('RGB')\n",
        "    img_tensor = transform(img).unsqueeze(0)  # شكل الإدخال: [1, 3, 224, 224]\n",
        "\n",
        "    with torch.no_grad():\n",
        "        outputs = model(img_tensor)\n",
        "        _, predicted = torch.max(outputs, 1)\n",
        "        prediction = class_names[predicted.item()]\n",
        "\n",
        "    print(f\"🦈 هذه الصورة تم تصنيفها كـ: {prediction}\")\n",
        "\n",
        "# 🧾 مثال الاستخدام:\n",
        "predict_image(\"/content/test55.jpeg\")"
      ],
      "metadata": {
        "colab": {
          "base_uri": "https://localhost:8080/"
        },
        "id": "i0eF0wAOxXKI",
        "outputId": "a7feb82c-a532-44a1-9e99-5604162a84c8"
      },
      "execution_count": 17,
      "outputs": [
        {
          "output_type": "stream",
          "name": "stdout",
          "text": [
            "🦈 هذه الصورة تم تصنيفها كـ: Hammerhead_Shark\n"
          ]
        }
      ]
    }
  ]
}