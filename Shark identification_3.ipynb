{
  "nbformat": 4,
  "nbformat_minor": 0,
  "metadata": {
    "colab": {
      "provenance": [],
      "authorship_tag": "ABX9TyNzt7CeeLrLjt2gURwftdWH",
      "include_colab_link": true
    },
    "kernelspec": {
      "name": "python3",
      "display_name": "Python 3"
    },
    "language_info": {
      "name": "python"
    }
  },
  "cells": [
    {
      "cell_type": "markdown",
      "metadata": {
        "id": "view-in-github",
        "colab_type": "text"
      },
      "source": [
        "<a href=\"https://colab.research.google.com/github/HatemMoushir/Shark-identification-1/blob/main/Shark%20identification_3.ipynb\" target=\"_parent\"><img src=\"https://colab.research.google.com/assets/colab-badge.svg\" alt=\"Open In Colab\"/></a>"
      ]
    },
    {
      "cell_type": "code",
      "execution_count": 1,
      "metadata": {
        "colab": {
          "base_uri": "https://localhost:8080/"
        },
        "id": "bgaBTwlUOS9a",
        "outputId": "84a0c5dd-ddb0-4f05-93a9-4686c6a6207b"
      },
      "outputs": [
        {
          "output_type": "stream",
          "name": "stdout",
          "text": [
            "Mounted at /content/drive\n"
          ]
        }
      ],
      "source": [
        "\n",
        "from google.colab import drive\n",
        "drive.mount('/content/drive')"
      ]
    },
    {
      "cell_type": "code",
      "source": [
        "import os\n",
        "\n",
        "path = \"/content/drive/MyDrive/Shark_project\"\n",
        "files = os.listdir(path)\n",
        "print(files)"
      ],
      "metadata": {
        "colab": {
          "base_uri": "https://localhost:8080/"
        },
        "id": "RCeXlEKfOika",
        "outputId": "cfd75441-c8b9-4bf7-a3fc-53df1e576a9a"
      },
      "execution_count": 3,
      "outputs": [
        {
          "output_type": "stream",
          "name": "stdout",
          "text": [
            "['sharks_raw.zip']\n"
          ]
        }
      ]
    },
    {
      "cell_type": "code",
      "source": [
        "import os\n",
        "from PIL import Image, UnidentifiedImageError\n",
        "import imagehash\n",
        "from collections import defaultdict\n",
        "import matplotlib.pyplot as plt\n",
        "\n",
        "base_path = \"/content/drive/MyDrive/Shark_project\"\n",
        "\n",
        "# إعدادات عامة\n",
        "min_size = (100, 100)\n",
        "hash_dict = defaultdict(list)\n",
        "duplicates = defaultdict(list)\n",
        "bad_images = []\n",
        "small_images = []\n",
        "\n",
        "def display_images(image_paths, title):\n",
        "    print(f\"\\n📸 {title} - عدد الصور: {len(image_paths)}\\n\")\n",
        "    for i, path in enumerate(image_paths[:10]):  # نعرض فقط أول 10 صور\n",
        "        try:\n",
        "            img = Image.open(path).convert(\"RGB\")\n",
        "            plt.imshow(img)\n",
        "            plt.title(f\"{os.path.basename(path)}\")\n",
        "            plt.axis('off')\n",
        "            plt.show()\n",
        "        except Exception as e:\n",
        "            print(f\"❌ خطأ أثناء العرض: {path}\", e)\n",
        "\n",
        "# فحص شامل على كل الصور\n",
        "for class_name in os.listdir(base_path):\n",
        "    class_path = os.path.join(base_path, class_name)\n",
        "    if not os.path.isdir(class_path):\n",
        "        continue\n",
        "\n",
        "    for img_name in os.listdir(class_path):\n",
        "        img_path = os.path.join(class_path, img_name)\n",
        "        try:\n",
        "            img = Image.open(img_path)\n",
        "            img.verify()  # فحص إذا كانت تالفة\n",
        "            img = Image.open(img_path).convert(\"RGB\")  # إعادة الفتح\n",
        "\n",
        "            # فحص الحجم\n",
        "            if img.size[0] < min_size[0] or img.size[1] < min_size[1]:\n",
        "                small_images.append(img_path)\n",
        "\n",
        "            # حساب phash واكتشاف التكرار\n",
        "            hash_val = imagehash.phash(img)\n",
        "            hash_dict[str(hash_val)].append(img_path)\n",
        "\n",
        "        except (UnidentifiedImageError, OSError) as e:\n",
        "            bad_images.append(img_path)\n",
        "\n",
        "# معالجة التكرارات\n",
        "for h, paths in hash_dict.items():\n",
        "    if len(paths) > 1:\n",
        "        duplicates[h] = paths\n",
        "\n",
        "# -------------------------------\n",
        "# عرض النتائج\n",
        "# -------------------------------\n",
        "\n",
        "# الصور التالفة\n",
        "if bad_images:\n",
        "    display_images(bad_images, \"صور تالفة\")\n",
        "\n",
        "# الصور صغيرة الحجم\n",
        "if small_images:\n",
        "    display_images(small_images, \"صور صغيرة الحجم (< 100x100)\")\n",
        "\n",
        "# الصور المكررة بصريًا\n",
        "if duplicates:\n",
        "    print(f\"\\n🔁 مجموعات صور مكررة بصريًا: {len(duplicates)}\\n\")\n",
        "    for i, (h, paths) in enumerate(duplicates.items()):\n",
        "        print(f\"\\n🧩 المجموعة {i+1} - Hash: {h} - عدد الصور: {len(paths)}\")\n",
        "        display_images(paths, f\"صور مكررة - مجموعة {i+1}\")"
      ],
      "metadata": {
        "id": "ZgsPZyT8PVDm"
      },
      "execution_count": null,
      "outputs": []
    }
  ]
}